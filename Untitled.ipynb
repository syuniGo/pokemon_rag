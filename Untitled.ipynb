{
 "cells": [
  {
   "cell_type": "code",
   "execution_count": 19,
   "id": "6480daed-9ff0-4769-be6c-22d9162effcf",
   "metadata": {},
   "outputs": [
    {
     "name": "stdout",
     "output_type": "stream",
     "text": [
      "数据库中的表：\n",
      "pokedex\n",
      "version\n",
      "kanto\n",
      "johto\n",
      "hoenn\n",
      "sinnoh\n",
      "unova_bw\n",
      "unova_b2w2\n",
      "central_kalos\n",
      "coast_kalos\n",
      "mountain_kalos\n",
      "alola_sm\n",
      "alola_usum\n",
      "galar\n",
      "crown_tundra\n",
      "isle_of_armor\n",
      "hisui\n",
      "paldea\n",
      "kitakami\n",
      "blueberry\n"
     ]
    }
   ],
   "source": [
    "import sqlite3\n",
    "\n",
    "conn = sqlite3.connect('./pokedex.db')\n",
    "cursor = conn.cursor()\n",
    "\n",
    "# 获取所有表名\n",
    "cursor.execute(\"SELECT name FROM sqlite_master WHERE type='table';\")\n",
    "tables = cursor.fetchall()\n",
    "\n",
    "print(\"数据库中的表：\")\n",
    "for table in tables:\n",
    "    print(table[0])\n",
    "\n",
    "conn.close()"
   ]
  },
  {
   "cell_type": "code",
   "execution_count": 8,
   "id": "c08d3fba-3316-4f69-a66d-3a919a3af87c",
   "metadata": {},
   "outputs": [
    {
     "name": "stdout",
     "output_type": "stream",
     "text": [
      "/home/sf/projects/pokemon_rag\n"
     ]
    }
   ],
   "source": [
    "!pwd"
   ]
  },
  {
   "cell_type": "code",
   "execution_count": 9,
   "id": "f6e8b2b6-7f1e-448b-9242-f84ce3506d43",
   "metadata": {},
   "outputs": [
    {
     "name": "stdout",
     "output_type": "stream",
     "text": [
      "README.md\tdocker-compose.yaml  flask-app\tpokedex.db\n",
      "Untitled.ipynb\tdocker-compose.yml   node-app\ttest.ipynb\n"
     ]
    }
   ],
   "source": [
    "!ls"
   ]
  },
  {
   "cell_type": "code",
   "execution_count": 24,
   "id": "3dd20c9c-1ec5-47a1-9eff-69fb34dc54e9",
   "metadata": {},
   "outputs": [
    {
     "name": "stdout",
     "output_type": "stream",
     "text": [
      "表的前5行数据：\n",
      "(1, '', '', 'フシギダネ', 'Bulbasaur', 'Bisasam', 'Bulbizarre', '이상해씨', '妙蛙种子', '妙蛙種子', 'たねポケモン', 0.7, 6.9)\n",
      "(2, '', '', 'フシギソウ', 'Ivysaur', 'Bisaknosp', 'Herbizarre', '이상해풀', '妙蛙草', '妙蛙草', 'たねポケモン', 1.0, 13.0)\n",
      "(3, '', '', 'フシギバナ', 'Venusaur', 'Bisaflor', 'Florizarre', '이상해꽃', '妙蛙花', '妙蛙花', 'たねポケモン', 2.0, 100.0)\n",
      "(3, 'メガシンカ', '', 'メガフシギバナ', 'MegaVenusaur', '', '', '', '', '', 'たねポケモン', 2.4, 155.5)\n",
      "(3, 'キョダイマックス', '', 'キョダイマックスフシギバナ', 'GigantamaxVenusaur', '', '', '', '', '', 'たねポケモン', 24.0, 155.5)\n"
     ]
    }
   ],
   "source": [
    "import sqlite3\n",
    "\n",
    "conn = sqlite3.connect('pokedex.db')\n",
    "cursor = conn.cursor()\n",
    "\n",
    "# 假设我们找到了一个名为'example_table'的表\n",
    "cursor.execute(\"SELECT * FROM pokedex LIMIT 5\")\n",
    "results = cursor.fetchall()\n",
    "\n",
    "print(\"表的前5行数据：\")\n",
    "for row in results:\n",
    "    print(row)\n",
    "\n",
    "conn.close()"
   ]
  },
  {
   "cell_type": "code",
   "execution_count": null,
   "id": "d50016db-b2a9-4bfb-b6c0-9a11df6a5949",
   "metadata": {},
   "outputs": [],
   "source": [
    "好复"
   ]
  }
 ],
 "metadata": {
  "kernelspec": {
   "display_name": "Python 3 (ipykernel)",
   "language": "python",
   "name": "python3"
  },
  "language_info": {
   "codemirror_mode": {
    "name": "ipython",
    "version": 3
   },
   "file_extension": ".py",
   "mimetype": "text/x-python",
   "name": "python",
   "nbconvert_exporter": "python",
   "pygments_lexer": "ipython3",
   "version": "3.12.4"
  }
 },
 "nbformat": 4,
 "nbformat_minor": 5
}
