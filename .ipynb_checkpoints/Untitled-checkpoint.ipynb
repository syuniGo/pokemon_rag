{
 "cells": [
  {
   "cell_type": "code",
   "execution_count": 2,
   "id": "6480daed-9ff0-4769-be6c-22d9162effcf",
   "metadata": {},
   "outputs": [
    {
     "ename": "OperationalError",
     "evalue": "no such table: pokemon",
     "output_type": "error",
     "traceback": [
      "\u001b[0;31m---------------------------------------------------------------------------\u001b[0m",
      "\u001b[0;31mOperationalError\u001b[0m                          Traceback (most recent call last)",
      "Cell \u001b[0;32mIn[2], line 10\u001b[0m\n\u001b[1;32m      7\u001b[0m cursor \u001b[38;5;241m=\u001b[39m conn\u001b[38;5;241m.\u001b[39mcursor()\n\u001b[1;32m      9\u001b[0m \u001b[38;5;66;03m# 执行SQL查询\u001b[39;00m\n\u001b[0;32m---> 10\u001b[0m cursor\u001b[38;5;241m.\u001b[39mexecute(\u001b[38;5;124m\"\u001b[39m\u001b[38;5;124mSELECT * FROM pokemon LIMIT 5\u001b[39m\u001b[38;5;124m\"\u001b[39m)\n\u001b[1;32m     12\u001b[0m \u001b[38;5;66;03m# 获取结果\u001b[39;00m\n\u001b[1;32m     13\u001b[0m results \u001b[38;5;241m=\u001b[39m cursor\u001b[38;5;241m.\u001b[39mfetchall()\n",
      "\u001b[0;31mOperationalError\u001b[0m: no such table: pokemon"
     ]
    }
   ],
   "source": [
    "import sqlite3\n",
    "\n",
    "# 连接到数据库\n",
    "conn = sqlite3.connect('/home/sf/projects/pokemon_rag/pokedex.db')\n",
    "\n",
    "# 创建一个游标对象\n",
    "cursor = conn.cursor()\n",
    "\n",
    "# 执行SQL查询\n",
    "cursor.execute(\"SELECT * FROM pokemon LIMIT 5\")\n",
    "\n",
    "# 获取结果\n",
    "results = cursor.fetchall()\n",
    "print(results)\n",
    "\n",
    "# 关闭连接\n",
    "conn.close()"
   ]
  },
  {
   "cell_type": "code",
   "execution_count": null,
   "id": "c08d3fba-3316-4f69-a66d-3a919a3af87c",
   "metadata": {},
   "outputs": [],
   "source": []
  }
 ],
 "metadata": {
  "kernelspec": {
   "display_name": "Python 3 (ipykernel)",
   "language": "python",
   "name": "python3"
  },
  "language_info": {
   "codemirror_mode": {
    "name": "ipython",
    "version": 3
   },
   "file_extension": ".py",
   "mimetype": "text/x-python",
   "name": "python",
   "nbconvert_exporter": "python",
   "pygments_lexer": "ipython3",
   "version": "3.12.4"
  }
 },
 "nbformat": 4,
 "nbformat_minor": 5
}
